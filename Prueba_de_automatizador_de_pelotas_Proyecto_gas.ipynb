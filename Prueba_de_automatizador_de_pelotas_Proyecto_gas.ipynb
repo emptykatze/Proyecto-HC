{
  "nbformat": 4,
  "nbformat_minor": 0,
  "metadata": {
    "colab": {
      "provenance": []
    },
    "kernelspec": {
      "name": "python3",
      "display_name": "Python 3"
    },
    "language_info": {
      "name": "python"
    }
  },
  "cells": [
    {
      "cell_type": "markdown",
      "source": [
        "Librerias y constantes"
      ],
      "metadata": {
        "id": "tRXD8Sg7t_5E"
      }
    },
    {
      "cell_type": "code",
      "execution_count": null,
      "metadata": {
        "colab": {
          "base_uri": "https://localhost:8080/"
        },
        "id": "Wtdi_UHDtn1Q",
        "outputId": "81dc8f28-9855-406e-e856-68ef92f013a9"
      },
      "outputs": [
        {
          "output_type": "stream",
          "name": "stdout",
          "text": [
            "Reading package lists... Done\n",
            "Building dependency tree... Done\n",
            "Reading state information... Done\n",
            "ffmpeg is already the newest version (7:4.4.2-0ubuntu0.22.04.1).\n",
            "0 upgraded, 0 newly installed, 0 to remove and 45 not upgraded.\n"
          ]
        }
      ],
      "source": [
        "from matplotlib import pyplot as plt\n",
        "import numpy as np\n",
        "from matplotlib.animation import FuncAnimation\n",
        "import matplotlib.animation as animation\n",
        "import scipy as sci\n",
        "!apt install ffmpeg\n",
        "\n",
        "dt=0.01 #si es 0.01 la velocidad de las pelotas serán mucho más lentas\n",
        "Nsteps=4000\n",
        "N=16 #numero de pelotas\n",
        "kHertz=1.0e4\n",
        "#Constantes del algoritmo de integración\n",
        "xi =0.1786178958448091\n",
        "Lambda = -0.2123418310626054\n",
        "Chi = -0.06626458266981849\n",
        "Um2labdau2 = (1-2*Lambda)/2\n",
        "Um2chiplusxi = 1-2*(Chi+xi)"
      ]
    },
    {
      "cell_type": "markdown",
      "source": [
        "Clase Cuerpo"
      ],
      "metadata": {
        "id": "N9S7WG9tuvG8"
      }
    },
    {
      "cell_type": "code",
      "source": [
        "class Cuerpo:\n",
        "  def __init__(self, x0, y0, Vx0, Vy0, m0, R0):\n",
        "    self.m=m0\n",
        "    self.R=R0\n",
        "    self.r=np.array([x0,y0])\n",
        "    self.V=np.array([Vx0,Vy0])\n",
        "    self.F=np.zeros(2)\n",
        "\n",
        "  def BorreFuerza(self):\n",
        "    self.F=np.zeros(2)\n",
        "\n",
        "  def SumeFuerza(self,dF):\n",
        "    self.F=self.F+dF\n",
        "\n",
        "  def Mueva_r(self, dt, coeficiente):\n",
        "    self.r=self.r+(coeficiente*dt)*self.V\n",
        "\n",
        "  def Mueva_V(self, dt, coeficiente):\n",
        "    self.V=self.V+(coeficiente*dt)*self.F/self.m"
      ],
      "metadata": {
        "id": "OBidpFpDu0A8"
      },
      "execution_count": null,
      "outputs": []
    },
    {
      "cell_type": "markdown",
      "source": [
        "Colisionador"
      ],
      "metadata": {
        "id": "8RqzK-DEu5W0"
      }
    },
    {
      "cell_type": "code",
      "source": [
        "class Colisionador:\n",
        "\n",
        "  def __init__(self,N):\n",
        "    self.N=N\n",
        "\n",
        "  def CalcularFuerzasEntrePelotas(self,P1,P2):\n",
        "    self.r21=np.array([0,0])\n",
        "    self.r21=P2.r-P1.r\n",
        "    self.d=np.linalg.norm(self.r21)\n",
        "    self.s=(P1.R+P2.R)-self.d\n",
        "    if self.s>0:\n",
        "      self.n=np.array([0,0])\n",
        "      self.n=self.r21*(1.0/self.d)\n",
        "\n",
        "      self.F2=np.array([0,0])\n",
        "      self.F2=self.n*(kHertz*(self.s**1.5))\n",
        "\n",
        "      P2.SumeFuerza(self.F2)\n",
        "      P1.SumeFuerza(-self.F2)\n",
        "\n",
        "  def CalcularTodasLasFuerzas(self,Pelota):\n",
        "    i=0\n",
        "    for i in range(N):\n",
        "      Pelota[i].BorreFuerza()\n",
        "    i=0\n",
        "    for i in range(0,N):\n",
        "      for j in range(0,N):\n",
        "        if i!=j:\n",
        "          self.CalcularFuerzasEntrePelotas(Pelota[i], Pelota[j])\n"
      ],
      "metadata": {
        "id": "uPIa4nnFu48q"
      },
      "execution_count": null,
      "outputs": []
    },
    {
      "cell_type": "markdown",
      "source": [
        "Programa principal"
      ],
      "metadata": {
        "id": "XTnURMwLwMVb"
      }
    },
    {
      "cell_type": "code",
      "source": [
        "\n",
        "Pelotas=[]\n",
        "choque=Colisionador(N)\n",
        "\n",
        "#Generador de pelotas para simulacion de gas\n",
        "\n",
        "k=0\n",
        "for k in range(0,N):\n",
        "  a=np.random.randint(-95,95)*0.1\n",
        "  b=np.random.randint(-45,45)*0.1\n",
        "  p=Cuerpo(a,b,0.5,0.5,1.0,0.17)\n",
        "\n",
        "  Pelotas.append(p)\n",
        "  print(len(Pelotas))\n",
        "\n",
        "\n",
        "xdata=np.random.random((N,Nsteps))\n",
        "ydata=np.random.random((N,Nsteps))\n",
        "\n",
        "t=0\n",
        "filas=0\n",
        "for filas in range(N):\n",
        "  for t in range(0,Nsteps):\n",
        "#x=x+xi*dx*v\n",
        "    for i in range(0,N):\n",
        "      Pelotas[i].Mueva_r(dt, xi)\n",
        "#v=v+(1-2*Lambda)*dx*F/2\n",
        "    choque.CalcularTodasLasFuerzas(Pelotas)\n",
        "    for i in range(0,N):\n",
        "      Pelotas[i].Mueva_V(dt, Um2labdau2)\n",
        "#x=x+Chi*dx*v\n",
        "    for i in range(0,N):\n",
        "      Pelotas[i].Mueva_r(dt, Chi)\n",
        "#v=v+Lambda*dx*F\n",
        "\n",
        "    choque.CalcularTodasLasFuerzas(Pelotas)\n",
        "    for i in range(0,N):\n",
        "      Pelotas[i].Mueva_V(dt, Lambda)\n",
        "#x=x+(1-2(Chi+xi))*dt*v\n",
        "    for i in range(0,N):\n",
        "      Pelotas[i].Mueva_r(dt, Um2chiplusxi)\n",
        "#v=v+Lambda*dx*F\n",
        "    choque.CalcularTodasLasFuerzas(Pelotas)\n",
        "    for i in range(0,N):\n",
        "      Pelotas[i].Mueva_V(dt, Lambda)\n",
        "#x=x+Chi*dx*v\n",
        "    for i in range(0,N):\n",
        "      Pelotas[i].Mueva_r(dt, Chi)\n",
        "#v=v+(1-2*Lambda)*dx*F/2\n",
        "    choque.CalcularTodasLasFuerzas(Pelotas)\n",
        "    for i in range(0,N):\n",
        "      Pelotas[i].Mueva_V(dt, Um2labdau2)\n",
        "#x=x+xi*dx*v\n",
        "    for i in range(0,N):\n",
        "      Pelotas[i].Mueva_r(dt, xi)\n",
        "\n",
        "#Para guardar los datos y su animacion junto con el choque con las paredes, creo que si funciona bien\n",
        "\n",
        "    xdata[filas,t]=Pelotas[0].r[0]\n",
        "    ydata[filas,t]=Pelotas[0].r[1]\n",
        "\n",
        "    for i in range(0,N):\n",
        "      if Pelotas[i].r[0]<=-10 or Pelotas[i].r[0]>=10:\n",
        "        Pelotas[i].V[0]=-Pelotas[i].V[0]\n",
        "      if Pelotas[i].r[1]<=-5 or Pelotas[i].r[1]>=5:\n",
        "        Pelotas[i].V[1]=-Pelotas[i].V[1]\n",
        "\n"
      ],
      "metadata": {
        "id": "ub30regNwPDj",
        "colab": {
          "base_uri": "https://localhost:8080/"
        },
        "outputId": "6a055811-315b-4a3c-f46a-2cc70d3373e0"
      },
      "execution_count": null,
      "outputs": [
        {
          "output_type": "stream",
          "name": "stdout",
          "text": [
            "1\n",
            "2\n",
            "3\n",
            "4\n",
            "5\n",
            "6\n",
            "7\n",
            "8\n",
            "9\n",
            "10\n",
            "11\n",
            "12\n",
            "13\n",
            "14\n",
            "15\n",
            "16\n",
            "[[-2.295      -2.29       -2.285      ... -6.89289954 -6.8985148\n",
            "  -6.90413005]\n",
            " [-6.9097453  -6.91536056 -6.92097581 ...  7.22020983  7.21609444\n",
            "   7.21197904]\n",
            " [ 7.20786365  7.20374826  7.19963286 ...  6.15925933  6.16601133\n",
            "   6.17276334]\n",
            " ...\n",
            " [-3.9538865  -3.9613074  -3.9687283  ...  1.55167172  1.54257044\n",
            "   1.53346917]\n",
            " [ 1.52436789  1.51526662  1.50616535 ...  5.10743065  5.1110803\n",
            "   5.11472995]\n",
            " [ 5.1183796   5.12202925  5.1256789  ...  0.29719113  0.29354148\n",
            "   0.28989183]]\n",
            "[[-3.395      -3.39       -3.385      ...  2.17408369  2.17329688\n",
            "   2.17251007]\n",
            " [ 2.17172326  2.17093645  2.17014964 ...  0.28086899  0.2861005\n",
            "   0.291332  ]\n",
            " [ 0.29656351  0.30179501  0.30702652 ... -2.72631137 -2.72391359\n",
            "  -2.7215158 ]\n",
            " ...\n",
            " [-1.68855245 -1.68340099 -1.67824953 ... -3.31843241 -3.31404534\n",
            "  -3.30965827]\n",
            " [-3.3052712  -3.30088414 -3.29649707 ...  2.50601354  2.50383637\n",
            "   2.50165921]\n",
            " [ 2.49948204  2.49730487  2.4951277  ... -3.79906314 -3.79688597\n",
            "  -3.7947088 ]]\n"
          ]
        }
      ]
    },
    {
      "cell_type": "markdown",
      "source": [
        "Animar y graficar\n"
      ],
      "metadata": {
        "id": "R-xIme0awc4z"
      }
    },
    {
      "cell_type": "code",
      "source": [
        "# initializing a figure in\n",
        "# which the graph will be plotted\n",
        "fig = plt.figure()\n",
        "# marking the x-axis and y-axis\n",
        "axis = plt.axes(xlim =(-10, 10), ylim =(-5, 5))\n",
        "\"\"\"\n",
        "c=0\n",
        "for c in range(N):\n",
        "\n",
        "lines, = axis.plot((([], [])[0] for _ in range(0,N)),color= 'purple',marker='o', linestyle='dashed',linewidth=2)\n",
        "\"\"\"\n",
        "lines=[]\n",
        "\n",
        "for ln in range(ydata.shape[0]):\n",
        "  line, = axis.plot(xdata[ln,:], ydata[ln,:],color= 'purple',marker='o', linestyle='dashed',linewidth=2)\n",
        "  lines.append(line,)\n",
        "\n",
        "\n",
        "\n",
        "\n",
        "def init():\n",
        "  lines.set_data([], [])\n",
        "  return lines\n",
        "\n",
        "i=0\n",
        "def animate(i):\n",
        "  ln=0\n",
        "  for ln in range(ydata.shape[0]):\n",
        "    x=xdata[ln,i]\n",
        "    y=ydata[ln,i]\n",
        "    lines[ln].set_data(x, y)\n",
        "\n",
        "  return (lines)\n",
        "\n",
        "\"\"\"\n",
        "def animate(i):\n",
        "  fl=0\n",
        "  for fl in range(N):\n",
        "    x=xdata[fl,i]\n",
        "    y=ydata[fl,i]\n",
        "    lines.set_data(x, y)\n",
        "  return (lines,)\n",
        "\"\"\"\n",
        "#plt.plot(xdata, ydata,'b',x2data, y2data, 'r')\n",
        "#plt.show\n",
        "\n",
        "anim=animation.FuncAnimation(fig, animate, init_func=None, frames=Nsteps, interval=20, blit=True)\n",
        "anim.save('prueba de creador de pelotas(PEFRL) .mp4', fps=30)\n"
      ],
      "metadata": {
        "colab": {
          "base_uri": "https://localhost:8080/",
          "height": 523
        },
        "id": "_MX2GbBswe3q",
        "outputId": "a7d037f4-d7a5-4f2a-b081-8f00607a67a6"
      },
      "execution_count": null,
      "outputs": [
        {
          "output_type": "stream",
          "name": "stderr",
          "text": [
            "<ipython-input-5-06f9143435bd>:31: MatplotlibDeprecationWarning: Setting data with a non sequence type is deprecated since 3.7 and will be remove two minor releases later\n",
            "  lines[ln].set_data(x, y)\n",
            "<ipython-input-5-06f9143435bd>:31: MatplotlibDeprecationWarning: Setting data with a non sequence type is deprecated since 3.7 and will be remove two minor releases later\n",
            "  lines[ln].set_data(x, y)\n"
          ]
        },
        {
          "output_type": "display_data",
          "data": {
            "text/plain": [
              "<Figure size 640x480 with 1 Axes>"
            ],
            "image/png": "[encoded data removed]"
          },
          "metadata": {}
        }
      ]
    }
  ]
}